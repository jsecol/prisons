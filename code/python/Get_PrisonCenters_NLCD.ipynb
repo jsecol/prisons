{
 "cells": [
  {
   "cell_type": "code",
   "execution_count": 1,
   "metadata": {
    "scrolled": true
   },
   "outputs": [],
   "source": [
    "# !pip install earthengine-api"
   ]
  },
  {
   "cell_type": "markdown",
   "metadata": {},
   "source": [
    "*Only need to authenticate once per Notebook*"
   ]
  },
  {
   "cell_type": "code",
   "execution_count": 2,
   "metadata": {},
   "outputs": [],
   "source": [
    "# !earthengine authenticate"
   ]
  },
  {
   "cell_type": "markdown",
   "metadata": {},
   "source": [
    "#### Following, in part: [GEE_downloadPRISM800_by_LandCover.py](https://gist.github.com/gponce-ars/b816c0801c3ce885207c826f45e1f30b)"
   ]
  },
  {
   "cell_type": "code",
   "execution_count": 3,
   "metadata": {},
   "outputs": [],
   "source": [
    "import ee\n",
    "ee.Initialize()\n",
    "from geopandas import GeoDataFrame\n",
    "from shapely.geometry import shape\n",
    "import matplotlib.pyplot as plt\n",
    "import ee.mapclient\n",
    "import pandas as pd\n",
    "import numpy as np\n",
    "import csv"
   ]
  },
  {
   "cell_type": "markdown",
   "metadata": {},
   "source": [
    "### 1. Import NLCD 2011"
   ]
  },
  {
   "cell_type": "code",
   "execution_count": 4,
   "metadata": {},
   "outputs": [],
   "source": [
    "nlcd2011 = ee.Image('USGS/NLCD/NLCD2011')"
   ]
  },
  {
   "cell_type": "markdown",
   "metadata": {},
   "source": [
    "### 2. Get points"
   ]
  },
  {
   "cell_type": "code",
   "execution_count": 5,
   "metadata": {},
   "outputs": [
    {
     "data": {
      "text/html": [
       "<div>\n",
       "<style scoped>\n",
       "    .dataframe tbody tr th:only-of-type {\n",
       "        vertical-align: middle;\n",
       "    }\n",
       "\n",
       "    .dataframe tbody tr th {\n",
       "        vertical-align: top;\n",
       "    }\n",
       "\n",
       "    .dataframe thead th {\n",
       "        text-align: right;\n",
       "    }\n",
       "</style>\n",
       "<table border=\"1\" class=\"dataframe\">\n",
       "  <thead>\n",
       "    <tr style=\"text-align: right;\">\n",
       "      <th></th>\n",
       "      <th>STATE</th>\n",
       "      <th>group</th>\n",
       "      <th>X</th>\n",
       "      <th>Y</th>\n",
       "    </tr>\n",
       "  </thead>\n",
       "  <tbody>\n",
       "    <tr>\n",
       "      <th>0</th>\n",
       "      <td>AK</td>\n",
       "      <td>216</td>\n",
       "      <td>-151.529276</td>\n",
       "      <td>59.649347</td>\n",
       "    </tr>\n",
       "    <tr>\n",
       "      <th>1</th>\n",
       "      <td>AK</td>\n",
       "      <td>256</td>\n",
       "      <td>-135.333568</td>\n",
       "      <td>57.052658</td>\n",
       "    </tr>\n",
       "    <tr>\n",
       "      <th>2</th>\n",
       "      <td>AK</td>\n",
       "      <td>323</td>\n",
       "      <td>-132.377690</td>\n",
       "      <td>56.469473</td>\n",
       "    </tr>\n",
       "    <tr>\n",
       "      <th>3</th>\n",
       "      <td>AK</td>\n",
       "      <td>1399</td>\n",
       "      <td>-162.592879</td>\n",
       "      <td>66.896473</td>\n",
       "    </tr>\n",
       "    <tr>\n",
       "      <th>4</th>\n",
       "      <td>AK</td>\n",
       "      <td>2352</td>\n",
       "      <td>-152.373083</td>\n",
       "      <td>57.804570</td>\n",
       "    </tr>\n",
       "  </tbody>\n",
       "</table>\n",
       "</div>"
      ],
      "text/plain": [
       "  STATE  group           X          Y\n",
       "0    AK    216 -151.529276  59.649347\n",
       "1    AK    256 -135.333568  57.052658\n",
       "2    AK    323 -132.377690  56.469473\n",
       "3    AK   1399 -162.592879  66.896473\n",
       "4    AK   2352 -152.373083  57.804570"
      ]
     },
     "execution_count": 5,
     "metadata": {},
     "output_type": "execute_result"
    }
   ],
   "source": [
    "df_coords = pd.read_csv('../R/exports/prison_ctrs_groups_latlon.csv', \n",
    "                        compression=None, header=0, sep=',', quotechar='\"', low_memory=False, index_col=False)\n",
    "\n",
    "df_coords.head()"
   ]
  },
  {
   "cell_type": "markdown",
   "metadata": {},
   "source": [
    "### 3. Subset of points to work with for this example"
   ]
  },
  {
   "cell_type": "code",
   "execution_count": 6,
   "metadata": {},
   "outputs": [
    {
     "data": {
      "text/html": [
       "<div>\n",
       "<style scoped>\n",
       "    .dataframe tbody tr th:only-of-type {\n",
       "        vertical-align: middle;\n",
       "    }\n",
       "\n",
       "    .dataframe tbody tr th {\n",
       "        vertical-align: top;\n",
       "    }\n",
       "\n",
       "    .dataframe thead th {\n",
       "        text-align: right;\n",
       "    }\n",
       "</style>\n",
       "<table border=\"1\" class=\"dataframe\">\n",
       "  <thead>\n",
       "    <tr style=\"text-align: right;\">\n",
       "      <th></th>\n",
       "      <th>STATE</th>\n",
       "      <th>group</th>\n",
       "      <th>X</th>\n",
       "      <th>Y</th>\n",
       "    </tr>\n",
       "  </thead>\n",
       "  <tbody>\n",
       "    <tr>\n",
       "      <th>4096</th>\n",
       "      <td>VT</td>\n",
       "      <td>382</td>\n",
       "      <td>-72.990790</td>\n",
       "      <td>43.609690</td>\n",
       "    </tr>\n",
       "    <tr>\n",
       "      <th>4097</th>\n",
       "      <td>VT</td>\n",
       "      <td>383</td>\n",
       "      <td>-73.205638</td>\n",
       "      <td>44.446527</td>\n",
       "    </tr>\n",
       "    <tr>\n",
       "      <th>4098</th>\n",
       "      <td>VT</td>\n",
       "      <td>390</td>\n",
       "      <td>-72.027951</td>\n",
       "      <td>44.395525</td>\n",
       "    </tr>\n",
       "    <tr>\n",
       "      <th>4099</th>\n",
       "      <td>VT</td>\n",
       "      <td>392</td>\n",
       "      <td>-72.190936</td>\n",
       "      <td>44.906313</td>\n",
       "    </tr>\n",
       "    <tr>\n",
       "      <th>4100</th>\n",
       "      <td>VT</td>\n",
       "      <td>393</td>\n",
       "      <td>-73.132266</td>\n",
       "      <td>44.850090</td>\n",
       "    </tr>\n",
       "    <tr>\n",
       "      <th>4101</th>\n",
       "      <td>VT</td>\n",
       "      <td>2646</td>\n",
       "      <td>-73.080646</td>\n",
       "      <td>44.811123</td>\n",
       "    </tr>\n",
       "    <tr>\n",
       "      <th>4102</th>\n",
       "      <td>VT</td>\n",
       "      <td>2648</td>\n",
       "      <td>-72.445631</td>\n",
       "      <td>43.988301</td>\n",
       "    </tr>\n",
       "    <tr>\n",
       "      <th>4103</th>\n",
       "      <td>VT</td>\n",
       "      <td>4282</td>\n",
       "      <td>-72.438051</td>\n",
       "      <td>43.269814</td>\n",
       "    </tr>\n",
       "  </tbody>\n",
       "</table>\n",
       "</div>"
      ],
      "text/plain": [
       "     STATE  group          X          Y\n",
       "4096    VT    382 -72.990790  43.609690\n",
       "4097    VT    383 -73.205638  44.446527\n",
       "4098    VT    390 -72.027951  44.395525\n",
       "4099    VT    392 -72.190936  44.906313\n",
       "4100    VT    393 -73.132266  44.850090\n",
       "4101    VT   2646 -73.080646  44.811123\n",
       "4102    VT   2648 -72.445631  43.988301\n",
       "4103    VT   4282 -72.438051  43.269814"
      ]
     },
     "execution_count": 6,
     "metadata": {},
     "output_type": "execute_result"
    }
   ],
   "source": [
    "df_coords_sub1 = df_coords[df_coords.STATE == \"VT\"]\n",
    "\n",
    "df_coords_sub1"
   ]
  },
  {
   "cell_type": "markdown",
   "metadata": {},
   "source": [
    "### 4. Convert to list"
   ]
  },
  {
   "cell_type": "code",
   "execution_count": 7,
   "metadata": {},
   "outputs": [
    {
     "data": {
      "text/plain": [
       "[['VT', 382, -72.99078972571981, 43.609690292624855],\n",
       " ['VT', 383, -73.20563789558545, 44.446527100239074],\n",
       " ['VT', 390, -72.02795108949539, 44.395525260118774],\n",
       " ['VT', 392, -72.19093592889806, 44.90631302571161],\n",
       " ['VT', 393, -73.1322655013431, 44.85009049694831],\n",
       " ['VT', 2646, -73.08064623120555, 44.8111227879875],\n",
       " ['VT', 2648, -72.44563089625301, 43.988300959423924],\n",
       " ['VT', 4282, -72.43805111553525, 43.269813822491294]]"
      ]
     },
     "execution_count": 7,
     "metadata": {},
     "output_type": "execute_result"
    }
   ],
   "source": [
    "valuesList = df_coords_sub1.to_numpy().tolist()\n",
    "valuesList"
   ]
  },
  {
   "cell_type": "markdown",
   "metadata": {},
   "source": [
    "### 5. Convert to ee.List"
   ]
  },
  {
   "cell_type": "code",
   "execution_count": 8,
   "metadata": {},
   "outputs": [
    {
     "name": "stdout",
     "output_type": "stream",
     "text": [
      "<class 'ee.ee_list.List'>\n"
     ]
    },
    {
     "data": {
      "text/plain": [
       "[['VT', 382, -72.99078972571981, 43.609690292624855],\n",
       " ['VT', 383, -73.20563789558545, 44.446527100239074],\n",
       " ['VT', 390, -72.02795108949539, 44.395525260118774],\n",
       " ['VT', 392, -72.19093592889806, 44.90631302571161],\n",
       " ['VT', 393, -73.1322655013431, 44.85009049694831],\n",
       " ['VT', 2646, -73.08064623120555, 44.8111227879875],\n",
       " ['VT', 2648, -72.44563089625301, 43.988300959423924],\n",
       " ['VT', 4282, -72.43805111553525, 43.269813822491294]]"
      ]
     },
     "execution_count": 8,
     "metadata": {},
     "output_type": "execute_result"
    }
   ],
   "source": [
    "valuesList = ee.List(valuesList)\n",
    "\n",
    "print(type(valuesList))\n",
    "valuesList.getInfo()"
   ]
  },
  {
   "cell_type": "markdown",
   "metadata": {},
   "source": [
    "### 6. Create feature collection"
   ]
  },
  {
   "cell_type": "code",
   "execution_count": 9,
   "metadata": {},
   "outputs": [],
   "source": [
    "def list2fc(l):\n",
    "    l1 = ee.List(l)\n",
    "    geom = ee.Geometry.Point([l1.get(2), l1.get(3)])\n",
    "    return ee.Feature(geom, {'state': l1.get(0), 'group': l1.get(1), 'longitude': l1.get(2), 'latitude': l1.get(3)})"
   ]
  },
  {
   "cell_type": "code",
   "execution_count": 10,
   "metadata": {},
   "outputs": [
    {
     "data": {
      "text/plain": [
       "ee.featurecollection.FeatureCollection"
      ]
     },
     "execution_count": 10,
     "metadata": {},
     "output_type": "execute_result"
    }
   ],
   "source": [
    "myFeatures = ee.FeatureCollection(valuesList.map(list2fc))\n",
    "\n",
    "type(myFeatures)"
   ]
  },
  {
   "cell_type": "markdown",
   "metadata": {},
   "source": [
    "### 7. Buffer feature collection"
   ]
  },
  {
   "cell_type": "code",
   "execution_count": 11,
   "metadata": {},
   "outputs": [],
   "source": [
    "def bufferPoly(feature):\n",
    "    return feature.buffer(10000)"
   ]
  },
  {
   "cell_type": "code",
   "execution_count": 12,
   "metadata": {},
   "outputs": [
    {
     "data": {
      "text/plain": [
       "{'type': 'Feature',\n",
       " 'geometry': {'type': 'Polygon',\n",
       "  'coordinates': [[[-73.20563789558545, 44.5365157597539],\n",
       "    [-73.24089792938952, 44.53292879258012],\n",
       "    [-73.27333910096395, 44.5224546780855],\n",
       "    [-73.3003707461909, 44.50593055181301],\n",
       "    [-73.31983922731773, 44.48467619578883],\n",
       "    [-73.33019994920797, 44.46038758602194],\n",
       "    [-73.33063869630404, 44.435000603150876],\n",
       "    [-73.32113315053843, 44.410536158038056],\n",
       "    [-73.30245073313499, 44.388939300373366],\n",
       "    [-73.27608417042335, 44.37192512121584],\n",
       "    [-73.24413094599345, 44.36084348527891],\n",
       "    [-73.20912675840444, 44.35657296950412],\n",
       "    [-73.17384610197799, 44.35945202087681],\n",
       "    [-73.14108509182418, 44.36925247665411],\n",
       "    [-73.11344268681262, 44.38519741317651],\n",
       "    [-73.09311655563582, 44.40602199869571],\n",
       "    [-73.08172898471113, 44.43007281131066],\n",
       "    [-73.08019641598267, 44.45543813762091],\n",
       "    [-73.08865339908598, 44.480099289158055],\n",
       "    [-73.1064379655581, 44.50209116135967],\n",
       "    [-73.1321408091208, 44.51965929910928],\n",
       "    [-73.16371546350912, 44.53140076904865],\n",
       "    [-73.19864134828329, 44.53637724525835],\n",
       "    [-73.20563789558545, 44.5365157597539]]]},\n",
       " 'id': '1',\n",
       " 'properties': {'group': 383,\n",
       "  'latitude': 44.446527100239074,\n",
       "  'longitude': -73.20563789558545,\n",
       "  'state': 'VT'}}"
      ]
     },
     "execution_count": 12,
     "metadata": {},
     "output_type": "execute_result"
    }
   ],
   "source": [
    "MyBuffers = myFeatures.map(bufferPoly)\n",
    "\n",
    "# take a peek\n",
    "MyBuffers.getInfo().get('features')[1]"
   ]
  },
  {
   "cell_type": "markdown",
   "metadata": {},
   "source": [
    "### 8. Clip the image to the polygon geometry and extract the landcover band"
   ]
  },
  {
   "cell_type": "code",
   "execution_count": 13,
   "metadata": {},
   "outputs": [
    {
     "data": {
      "text/plain": [
       "ee.image.Image"
      ]
     },
     "execution_count": 13,
     "metadata": {},
     "output_type": "execute_result"
    }
   ],
   "source": [
    "nlcd2011c = nlcd2011.clip(MyBuffers)\n",
    "\n",
    "landcover = nlcd2011c.select('landcover')\n",
    "type(landcover)"
   ]
  },
  {
   "cell_type": "markdown",
   "metadata": {},
   "source": [
    "*Can't make a map here in Python apparently, but check out [this workaround](https://stackoverflow.com/questions/46960328/workaround-for-google-earth-engine-python-api-and-no-support-for-ee-mapclient)*\n"
   ]
  },
  {
   "cell_type": "markdown",
   "metadata": {},
   "source": [
    "### 9. Get the frequency of landcover occurrence for each buffer\n",
    "\n",
    "Following this: https://stackoverflow.com/questions/47633088/get-results-in-an-earth-engine-python-script"
   ]
  },
  {
   "cell_type": "code",
   "execution_count": 14,
   "metadata": {},
   "outputs": [
    {
     "data": {
      "text/plain": [
       "ee.featurecollection.FeatureCollection"
      ]
     },
     "execution_count": 14,
     "metadata": {},
     "output_type": "execute_result"
    }
   ],
   "source": [
    "frequency = landcover.reduceRegions(collection = MyBuffers, reducer = ee.Reducer.frequencyHistogram(), scale = 30)\n",
    "type(frequency)"
   ]
  },
  {
   "cell_type": "markdown",
   "metadata": {},
   "source": [
    "### 10. Process to dataframe"
   ]
  },
  {
   "cell_type": "markdown",
   "metadata": {},
   "source": [
    "* awkwardly at this point in my python experience\n",
    "* some potential help: \n",
    "    * [stackexchange 1](https://gis.stackexchange.com/questions/278607/earth-engine-convert-list-with-coordinates-and-values-into-a-feature-collection)\n",
    "    * [stackexchange 2](https://gis.stackexchange.com/questions/303138/google-earth-engine-remove-geometry-fields-from-featurecollection-for-export-t)\n",
    "    * https://pypi.org/project/flatten-dict/\n",
    "    * [stackoverflow 1](https://stackoverflow.com/questions/14692690/access-nested-dictionary-items-via-a-list-of-keys)\n",
    "    * [stackoverflow 2](https://stackoverflow.com/questions/50283745/python-csv-writer-combine-two-columns-in-single-row)\n",
    "    \n",
    "    \n",
    "##### a. remove geometry and process down a bit"
   ]
  },
  {
   "cell_type": "code",
   "execution_count": 15,
   "metadata": {},
   "outputs": [
    {
     "data": {
      "text/plain": [
       "{'type': 'Feature',\n",
       " 'geometry': None,\n",
       " 'id': '1',\n",
       " 'properties': {'group': 383,\n",
       "  'histogram': {'11': 108111.09019607835,\n",
       "   '21': 29022.231372549028,\n",
       "   '22': 27142.61176470589,\n",
       "   '23': 24710.262745098044,\n",
       "   '24': 11158.592156862745,\n",
       "   '31': 721.0,\n",
       "   '41': 36318.149019607874,\n",
       "   '42': 10282.188235294121,\n",
       "   '43': 15253.023529411776,\n",
       "   '52': 563.635294117647,\n",
       "   '71': 332.4666666666667,\n",
       "   '81': 55516.305882352885,\n",
       "   '82': 5921.858823529412,\n",
       "   '90': 15350.41960784314,\n",
       "   '95': 5212.364705882353},\n",
       "  'latitude': 44.446527100239074,\n",
       "  'longitude': -73.20563789558545,\n",
       "  'state': 'VT'}}"
      ]
     },
     "execution_count": 15,
     "metadata": {},
     "output_type": "execute_result"
    }
   ],
   "source": [
    "def extract1(feat):\n",
    "    feat = feat.setGeometry(None)\n",
    "    return feat\n",
    "\n",
    "data1 = frequency.map(extract1)\n",
    "\n",
    "data1 = data1.getInfo()\n",
    "\n",
    "wanted_keys = ['features'] \n",
    "data1 = dict((k, data1[k]) for k in wanted_keys if k in data1)\n",
    "data1 = data1.get('features')\n",
    "\n",
    "data1[1]"
   ]
  },
  {
   "cell_type": "markdown",
   "metadata": {},
   "source": [
    "##### b. Process down some more"
   ]
  },
  {
   "cell_type": "code",
   "execution_count": 16,
   "metadata": {},
   "outputs": [
    {
     "data": {
      "text/plain": [
       "{'group': 383,\n",
       " 'histogram': {'11': 108111.09019607835,\n",
       "  '21': 29022.231372549028,\n",
       "  '22': 27142.61176470589,\n",
       "  '23': 24710.262745098044,\n",
       "  '24': 11158.592156862745,\n",
       "  '31': 721.0,\n",
       "  '41': 36318.149019607874,\n",
       "  '42': 10282.188235294121,\n",
       "  '43': 15253.023529411776,\n",
       "  '52': 563.635294117647,\n",
       "  '71': 332.4666666666667,\n",
       "  '81': 55516.305882352885,\n",
       "  '82': 5921.858823529412,\n",
       "  '90': 15350.41960784314,\n",
       "  '95': 5212.364705882353},\n",
       " 'latitude': 44.446527100239074,\n",
       " 'longitude': -73.20563789558545,\n",
       " 'state': 'VT'}"
      ]
     },
     "execution_count": 16,
     "metadata": {},
     "output_type": "execute_result"
    }
   ],
   "source": [
    "data2 = []\n",
    "for d in data1:\n",
    "    d = d.get('properties')\n",
    "    data2.append(d)\n",
    "data2[1]"
   ]
  },
  {
   "cell_type": "markdown",
   "metadata": {},
   "source": [
    "##### c. get histogram and group data separately"
   ]
  },
  {
   "cell_type": "code",
   "execution_count": 17,
   "metadata": {},
   "outputs": [
    {
     "data": {
      "text/plain": [
       "{'11': 108111.09019607835,\n",
       " '21': 29022.231372549028,\n",
       " '22': 27142.61176470589,\n",
       " '23': 24710.262745098044,\n",
       " '24': 11158.592156862745,\n",
       " '31': 721.0,\n",
       " '41': 36318.149019607874,\n",
       " '42': 10282.188235294121,\n",
       " '43': 15253.023529411776,\n",
       " '52': 563.635294117647,\n",
       " '71': 332.4666666666667,\n",
       " '81': 55516.305882352885,\n",
       " '82': 5921.858823529412,\n",
       " '90': 15350.41960784314,\n",
       " '95': 5212.364705882353}"
      ]
     },
     "execution_count": 17,
     "metadata": {},
     "output_type": "execute_result"
    }
   ],
   "source": [
    "histdata = []\n",
    "for d in data2:\n",
    "    d = d.get('histogram')\n",
    "    histdata.append(d)\n",
    "histdata[1]"
   ]
  },
  {
   "cell_type": "code",
   "execution_count": 18,
   "metadata": {},
   "outputs": [
    {
     "data": {
      "text/plain": [
       "{'group': 383,\n",
       " 'latitude': 44.446527100239074,\n",
       " 'longitude': -73.20563789558545,\n",
       " 'state': 'VT'}"
      ]
     },
     "execution_count": 18,
     "metadata": {},
     "output_type": "execute_result"
    }
   ],
   "source": [
    "groupdata = []\n",
    "for d in data2:\n",
    "    del d['histogram']\n",
    "    groupdata.append(d)\n",
    "\n",
    "groupdata[1]"
   ]
  },
  {
   "cell_type": "markdown",
   "metadata": {},
   "source": [
    "##### d. convert to panda dataframe"
   ]
  },
  {
   "cell_type": "code",
   "execution_count": 19,
   "metadata": {},
   "outputs": [
    {
     "data": {
      "text/html": [
       "<div>\n",
       "<style scoped>\n",
       "    .dataframe tbody tr th:only-of-type {\n",
       "        vertical-align: middle;\n",
       "    }\n",
       "\n",
       "    .dataframe tbody tr th {\n",
       "        vertical-align: top;\n",
       "    }\n",
       "\n",
       "    .dataframe thead th {\n",
       "        text-align: right;\n",
       "    }\n",
       "</style>\n",
       "<table border=\"1\" class=\"dataframe\">\n",
       "  <thead>\n",
       "    <tr style=\"text-align: right;\">\n",
       "      <th></th>\n",
       "      <th>group</th>\n",
       "      <th>latitude</th>\n",
       "      <th>longitude</th>\n",
       "      <th>state</th>\n",
       "      <th>11</th>\n",
       "      <th>21</th>\n",
       "      <th>22</th>\n",
       "      <th>23</th>\n",
       "      <th>24</th>\n",
       "      <th>31</th>\n",
       "      <th>41</th>\n",
       "      <th>42</th>\n",
       "      <th>43</th>\n",
       "      <th>52</th>\n",
       "      <th>71</th>\n",
       "      <th>81</th>\n",
       "      <th>82</th>\n",
       "      <th>90</th>\n",
       "      <th>95</th>\n",
       "    </tr>\n",
       "  </thead>\n",
       "  <tbody>\n",
       "    <tr>\n",
       "      <th>0</th>\n",
       "      <td>382</td>\n",
       "      <td>43.609690</td>\n",
       "      <td>-72.990790</td>\n",
       "      <td>VT</td>\n",
       "      <td>1001.090196</td>\n",
       "      <td>15896.325490</td>\n",
       "      <td>13382.090196</td>\n",
       "      <td>12412.137255</td>\n",
       "      <td>3090.788235</td>\n",
       "      <td>846.000000</td>\n",
       "      <td>138979.913725</td>\n",
       "      <td>48878.176471</td>\n",
       "      <td>41500.529412</td>\n",
       "      <td>2435.643137</td>\n",
       "      <td>4162.470588</td>\n",
       "      <td>31762.976471</td>\n",
       "      <td>7369.286275</td>\n",
       "      <td>20585.729412</td>\n",
       "      <td>3247.513725</td>\n",
       "    </tr>\n",
       "    <tr>\n",
       "      <th>1</th>\n",
       "      <td>383</td>\n",
       "      <td>44.446527</td>\n",
       "      <td>-73.205638</td>\n",
       "      <td>VT</td>\n",
       "      <td>108111.090196</td>\n",
       "      <td>29022.231373</td>\n",
       "      <td>27142.611765</td>\n",
       "      <td>24710.262745</td>\n",
       "      <td>11158.592157</td>\n",
       "      <td>721.000000</td>\n",
       "      <td>36318.149020</td>\n",
       "      <td>10282.188235</td>\n",
       "      <td>15253.023529</td>\n",
       "      <td>563.635294</td>\n",
       "      <td>332.466667</td>\n",
       "      <td>55516.305882</td>\n",
       "      <td>5921.858824</td>\n",
       "      <td>15350.419608</td>\n",
       "      <td>5212.364706</td>\n",
       "    </tr>\n",
       "    <tr>\n",
       "      <th>2</th>\n",
       "      <td>390</td>\n",
       "      <td>44.395525</td>\n",
       "      <td>-72.027951</td>\n",
       "      <td>VT</td>\n",
       "      <td>6022.807843</td>\n",
       "      <td>15224.003922</td>\n",
       "      <td>9703.552941</td>\n",
       "      <td>4981.439216</td>\n",
       "      <td>1271.898039</td>\n",
       "      <td>1024.000000</td>\n",
       "      <td>82425.976471</td>\n",
       "      <td>65612.949020</td>\n",
       "      <td>95828.074510</td>\n",
       "      <td>3084.466667</td>\n",
       "      <td>3661.690196</td>\n",
       "      <td>45439.870588</td>\n",
       "      <td>2163.247059</td>\n",
       "      <td>8122.196078</td>\n",
       "      <td>1047.023529</td>\n",
       "    </tr>\n",
       "    <tr>\n",
       "      <th>3</th>\n",
       "      <td>392</td>\n",
       "      <td>44.906313</td>\n",
       "      <td>-72.190936</td>\n",
       "      <td>VT</td>\n",
       "      <td>30424.654902</td>\n",
       "      <td>13363.200000</td>\n",
       "      <td>10572.458824</td>\n",
       "      <td>3613.862745</td>\n",
       "      <td>992.000000</td>\n",
       "      <td>1388.000000</td>\n",
       "      <td>45799.635294</td>\n",
       "      <td>52916.639216</td>\n",
       "      <td>68257.992157</td>\n",
       "      <td>2547.505882</td>\n",
       "      <td>3142.427451</td>\n",
       "      <td>69699.658824</td>\n",
       "      <td>10847.941176</td>\n",
       "      <td>28417.764706</td>\n",
       "      <td>3670.478431</td>\n",
       "    </tr>\n",
       "    <tr>\n",
       "      <th>4</th>\n",
       "      <td>393</td>\n",
       "      <td>44.850090</td>\n",
       "      <td>-73.132266</td>\n",
       "      <td>VT</td>\n",
       "      <td>101687.933333</td>\n",
       "      <td>12590.913725</td>\n",
       "      <td>13993.843137</td>\n",
       "      <td>6664.294118</td>\n",
       "      <td>2354.247059</td>\n",
       "      <td>907.000000</td>\n",
       "      <td>48087.349020</td>\n",
       "      <td>4347.239216</td>\n",
       "      <td>11083.662745</td>\n",
       "      <td>868.294118</td>\n",
       "      <td>315.000000</td>\n",
       "      <td>61795.074510</td>\n",
       "      <td>49247.552941</td>\n",
       "      <td>28868.129412</td>\n",
       "      <td>2839.905882</td>\n",
       "    </tr>\n",
       "    <tr>\n",
       "      <th>5</th>\n",
       "      <td>2646</td>\n",
       "      <td>44.811123</td>\n",
       "      <td>-73.080646</td>\n",
       "      <td>VT</td>\n",
       "      <td>30941.603922</td>\n",
       "      <td>13210.945098</td>\n",
       "      <td>13119.533333</td>\n",
       "      <td>5345.686275</td>\n",
       "      <td>1734.701961</td>\n",
       "      <td>160.843137</td>\n",
       "      <td>78969.368627</td>\n",
       "      <td>12226.376471</td>\n",
       "      <td>23652.815686</td>\n",
       "      <td>1119.560784</td>\n",
       "      <td>330.788235</td>\n",
       "      <td>86554.572549</td>\n",
       "      <td>42048.156863</td>\n",
       "      <td>30952.513725</td>\n",
       "      <td>5280.698039</td>\n",
       "    </tr>\n",
       "    <tr>\n",
       "      <th>6</th>\n",
       "      <td>2648</td>\n",
       "      <td>43.988301</td>\n",
       "      <td>-72.445631</td>\n",
       "      <td>VT</td>\n",
       "      <td>124.450980</td>\n",
       "      <td>14058.419608</td>\n",
       "      <td>2810.584314</td>\n",
       "      <td>832.666667</td>\n",
       "      <td>98.000000</td>\n",
       "      <td>105.929412</td>\n",
       "      <td>154407.854902</td>\n",
       "      <td>39968.101961</td>\n",
       "      <td>84369.537255</td>\n",
       "      <td>4477.501961</td>\n",
       "      <td>2323.294118</td>\n",
       "      <td>35623.121569</td>\n",
       "      <td>642.505882</td>\n",
       "      <td>5320.047059</td>\n",
       "      <td>416.066667</td>\n",
       "    </tr>\n",
       "    <tr>\n",
       "      <th>7</th>\n",
       "      <td>4282</td>\n",
       "      <td>43.269814</td>\n",
       "      <td>-72.438051</td>\n",
       "      <td>VT</td>\n",
       "      <td>7803.898039</td>\n",
       "      <td>14891.866667</td>\n",
       "      <td>10662.458824</td>\n",
       "      <td>5424.647059</td>\n",
       "      <td>929.109804</td>\n",
       "      <td>1024.619608</td>\n",
       "      <td>81023.278431</td>\n",
       "      <td>95995.207843</td>\n",
       "      <td>72887.635294</td>\n",
       "      <td>2941.341176</td>\n",
       "      <td>3265.372549</td>\n",
       "      <td>32279.435294</td>\n",
       "      <td>5745.235294</td>\n",
       "      <td>9349.388235</td>\n",
       "      <td>1298.490196</td>\n",
       "    </tr>\n",
       "  </tbody>\n",
       "</table>\n",
       "</div>"
      ],
      "text/plain": [
       "   group   latitude  longitude state             11            21  \\\n",
       "0    382  43.609690 -72.990790    VT    1001.090196  15896.325490   \n",
       "1    383  44.446527 -73.205638    VT  108111.090196  29022.231373   \n",
       "2    390  44.395525 -72.027951    VT    6022.807843  15224.003922   \n",
       "3    392  44.906313 -72.190936    VT   30424.654902  13363.200000   \n",
       "4    393  44.850090 -73.132266    VT  101687.933333  12590.913725   \n",
       "5   2646  44.811123 -73.080646    VT   30941.603922  13210.945098   \n",
       "6   2648  43.988301 -72.445631    VT     124.450980  14058.419608   \n",
       "7   4282  43.269814 -72.438051    VT    7803.898039  14891.866667   \n",
       "\n",
       "             22            23            24           31             41  \\\n",
       "0  13382.090196  12412.137255   3090.788235   846.000000  138979.913725   \n",
       "1  27142.611765  24710.262745  11158.592157   721.000000   36318.149020   \n",
       "2   9703.552941   4981.439216   1271.898039  1024.000000   82425.976471   \n",
       "3  10572.458824   3613.862745    992.000000  1388.000000   45799.635294   \n",
       "4  13993.843137   6664.294118   2354.247059   907.000000   48087.349020   \n",
       "5  13119.533333   5345.686275   1734.701961   160.843137   78969.368627   \n",
       "6   2810.584314    832.666667     98.000000   105.929412  154407.854902   \n",
       "7  10662.458824   5424.647059    929.109804  1024.619608   81023.278431   \n",
       "\n",
       "             42            43           52           71            81  \\\n",
       "0  48878.176471  41500.529412  2435.643137  4162.470588  31762.976471   \n",
       "1  10282.188235  15253.023529   563.635294   332.466667  55516.305882   \n",
       "2  65612.949020  95828.074510  3084.466667  3661.690196  45439.870588   \n",
       "3  52916.639216  68257.992157  2547.505882  3142.427451  69699.658824   \n",
       "4   4347.239216  11083.662745   868.294118   315.000000  61795.074510   \n",
       "5  12226.376471  23652.815686  1119.560784   330.788235  86554.572549   \n",
       "6  39968.101961  84369.537255  4477.501961  2323.294118  35623.121569   \n",
       "7  95995.207843  72887.635294  2941.341176  3265.372549  32279.435294   \n",
       "\n",
       "             82            90           95  \n",
       "0   7369.286275  20585.729412  3247.513725  \n",
       "1   5921.858824  15350.419608  5212.364706  \n",
       "2   2163.247059   8122.196078  1047.023529  \n",
       "3  10847.941176  28417.764706  3670.478431  \n",
       "4  49247.552941  28868.129412  2839.905882  \n",
       "5  42048.156863  30952.513725  5280.698039  \n",
       "6    642.505882   5320.047059   416.066667  \n",
       "7   5745.235294   9349.388235  1298.490196  "
      ]
     },
     "execution_count": 19,
     "metadata": {},
     "output_type": "execute_result"
    }
   ],
   "source": [
    "group_df = pd.DataFrame(groupdata).merge(pd.DataFrame(histdata), left_on=None, right_on=None, \n",
    "                                          left_index=True, right_index=True)\n",
    "group_df"
   ]
  },
  {
   "cell_type": "markdown",
   "metadata": {},
   "source": [
    "### 11. Visualize and export"
   ]
  },
  {
   "cell_type": "markdown",
   "metadata": {},
   "source": [
    "##### a. Export raw data to csv"
   ]
  },
  {
   "cell_type": "code",
   "execution_count": 20,
   "metadata": {},
   "outputs": [],
   "source": [
    "group_df.to_csv('../../data/processed/nlcd_data.csv', encoding='utf-8', index=False)"
   ]
  },
  {
   "cell_type": "markdown",
   "metadata": {},
   "source": [
    "##### b. Calculate new df for proportions and plot some of it\n",
    "\n",
    "select NLCD info (see [metadata](https://www.mrlc.gov/sites/default/files/metadata/landcover.html))\n",
    "\n",
    "* 22\tDeveloped, Low Intensity - Includes areas with a mixture of constructed materials and vegetation. Impervious surfaces account for 20-49 percent of total cover. These areas most commonly include single-family housing units.\t\n",
    "* 23\tDeveloped, Medium Intensity - Includes areas with a mixture of constructed materials and vegetation. Impervious surfaces account for 50-79 percent of the total cover. These areas most commonly include single-family housing units.\t\n",
    "* 24\tDeveloped, High Intensity - Includes highly developed areas where people reside or work in high numbers. Examples include apartment complexes, row houses and commercial/industrial. Impervious surfaces account for 80 to 100 percent of the total cover.\n"
   ]
  },
  {
   "cell_type": "code",
   "execution_count": 21,
   "metadata": {},
   "outputs": [
    {
     "data": {
      "text/html": [
       "<div>\n",
       "<style scoped>\n",
       "    .dataframe tbody tr th:only-of-type {\n",
       "        vertical-align: middle;\n",
       "    }\n",
       "\n",
       "    .dataframe tbody tr th {\n",
       "        vertical-align: top;\n",
       "    }\n",
       "\n",
       "    .dataframe thead th {\n",
       "        text-align: right;\n",
       "    }\n",
       "</style>\n",
       "<table border=\"1\" class=\"dataframe\">\n",
       "  <thead>\n",
       "    <tr style=\"text-align: right;\">\n",
       "      <th></th>\n",
       "      <th>11</th>\n",
       "      <th>21</th>\n",
       "      <th>22</th>\n",
       "      <th>23</th>\n",
       "      <th>24</th>\n",
       "      <th>31</th>\n",
       "      <th>41</th>\n",
       "      <th>42</th>\n",
       "      <th>43</th>\n",
       "      <th>52</th>\n",
       "      <th>71</th>\n",
       "      <th>81</th>\n",
       "      <th>82</th>\n",
       "      <th>90</th>\n",
       "      <th>95</th>\n",
       "    </tr>\n",
       "    <tr>\n",
       "      <th>group</th>\n",
       "      <th></th>\n",
       "      <th></th>\n",
       "      <th></th>\n",
       "      <th></th>\n",
       "      <th></th>\n",
       "      <th></th>\n",
       "      <th></th>\n",
       "      <th></th>\n",
       "      <th></th>\n",
       "      <th></th>\n",
       "      <th></th>\n",
       "      <th></th>\n",
       "      <th></th>\n",
       "      <th></th>\n",
       "      <th></th>\n",
       "    </tr>\n",
       "  </thead>\n",
       "  <tbody>\n",
       "    <tr>\n",
       "      <th>382</th>\n",
       "      <td>0.002897</td>\n",
       "      <td>0.046003</td>\n",
       "      <td>0.038727</td>\n",
       "      <td>0.03592</td>\n",
       "      <td>0.008945</td>\n",
       "      <td>0.002448</td>\n",
       "      <td>0.402198</td>\n",
       "      <td>0.14145</td>\n",
       "      <td>0.1201</td>\n",
       "      <td>0.007049</td>\n",
       "      <td>0.012046</td>\n",
       "      <td>0.09192</td>\n",
       "      <td>0.021326</td>\n",
       "      <td>0.059574</td>\n",
       "      <td>0.009398</td>\n",
       "    </tr>\n",
       "  </tbody>\n",
       "</table>\n",
       "</div>"
      ],
      "text/plain": [
       "             11        21        22       23        24        31        41  \\\n",
       "group                                                                        \n",
       "382    0.002897  0.046003  0.038727  0.03592  0.008945  0.002448  0.402198   \n",
       "\n",
       "            42      43        52        71       81        82        90  \\\n",
       "group                                                                     \n",
       "382    0.14145  0.1201  0.007049  0.012046  0.09192  0.021326  0.059574   \n",
       "\n",
       "             95  \n",
       "group            \n",
       "382    0.009398  "
      ]
     },
     "execution_count": 21,
     "metadata": {},
     "output_type": "execute_result"
    }
   ],
   "source": [
    "df = pd.concat([group_df.iloc[:, 0], group_df.iloc[:, 4:]], axis=1)\n",
    "df = df.set_index('group')\n",
    "prp = df.div(df.sum(axis=1), axis=0)\n",
    "prp.iloc[0:1, :]"
   ]
  },
  {
   "cell_type": "code",
   "execution_count": 22,
   "metadata": {},
   "outputs": [
    {
     "data": {
      "image/png": "[encoded data removed]",
      "text/plain": [
       "<Figure size 432x288 with 1 Axes>"
      ]
     },
     "metadata": {
      "needs_background": "light"
     },
     "output_type": "display_data"
    }
   ],
   "source": [
    "ax = prp.plot.bar(y = ['22', '23', '24'], rot = 0)\n",
    "plt.show()"
   ]
  },
  {
   "cell_type": "code",
   "execution_count": null,
   "metadata": {},
   "outputs": [],
   "source": []
  }
 ],
 "metadata": {
  "kernelspec": {
   "display_name": "Python 3",
   "language": "python",
   "name": "python3"
  },
  "language_info": {
   "codemirror_mode": {
    "name": "ipython",
    "version": 3
   },
   "file_extension": ".py",
   "mimetype": "text/x-python",
   "name": "python",
   "nbconvert_exporter": "python",
   "pygments_lexer": "ipython3",
   "version": "3.7.3"
  }
 },
 "nbformat": 4,
 "nbformat_minor": 2
}
